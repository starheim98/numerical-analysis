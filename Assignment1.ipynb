{
  "cells":[
    {
      "cell_type":"code",
      "source":[
        "import numpy as np\n",
        "def fixed_point_iteration(f, x0, tol):\n",
        "    x = x0\n",
        "    while True:\n",
        "        result = f(x)\n",
        "        print(result)\n",
        "        if np.abs(result - x) < tol:\n",
        "            break\n",
        "        else:\n",
        "            x = f(x)\n",
        "    \n",
        "    return x\n",
        "\n",
        "\n",
        "f1 = lambda x: (2*x + 2)**(1\/3)\n",
        "f2 = lambda x: np.log(7 - x)\n",
        "f3 = lambda x: np.log(4 - np.sin(x))\n",
        "x0_1 = 1\n",
        "x0_2 = 3\n",
        "x0_3 = 2\n",
        "tol = 1e-8\n",
        "\n",
        "print(fixed_point_iteration(f3,x0_3, tol))\n",
        "    "
      ],
      "execution_count":67,
      "outputs":[
        {
          "name":"stdout",
          "text":[
            "1.1283984350243486\n",
            "1.1301989020044818\n",
            "1.1299504018254667\n",
            "1.1299846471311192\n",
            "1.129979926852827\n",
            "1.1299805774639076\n",
            "1.129980487787736\n",
            "1.1299805001481331\n",
            "1.129980498444454\n",
            "1.1299805001481331\n"
          ],
          "output_type":"stream"
        }
      ],
      "metadata":{
        
      }
    }
  ],
  "metadata":{
    
  },
  "nbformat":4,
  "nbformat_minor":0
}