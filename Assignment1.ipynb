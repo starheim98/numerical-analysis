{
  "cells":[
    {
      "cell_type":"markdown",
      "source":[
        "# Fixed point iteration"
      ],
      "attachments":{
        
      },
      "metadata":{
        
      }
    },
    {
      "cell_type":"code",
      "source":[
        "import numpy as np\n",
        "def fixed_point_iteration(f, x0, tol):\n",
        "    x = x0\n",
        "    while True:\n",
        "        result = f(x)\n",
        "        print(result)\n",
        "        if np.abs(result - x) < tol:\n",
        "            break\n",
        "        else:\n",
        "            x = f(x)\n",
        "    \n",
        "    return x\n",
        "\n",
        "\n",
        "f1 = lambda x: (2*x + 2)**(1\/3)\n",
        "f2 = lambda x: np.log(7 - x)\n",
        "f3 = lambda x: np.log(4 - np.sin(x))\n",
        "f4 = lambda x: (-3*x+255)**(1\/5)\n",
        "x0_1 = 1\n",
        "x0_2 = 3\n",
        "x0_3 = 2\n",
        "tol = 1e-8\n",
        "\n",
        "print(fixed_point_iteration(f4,x0_3, tol))\n",
        "\n",
        "test = 0"
      ],
      "execution_count":1,
      "outputs":[
        {
          "name":"stdout",
          "text":[
            "3.0146706265705823\n",
            "3.007263478756681\n",
            "3.0073178163810184\n",
            "3.0073174177833963\n",
            "3.0073174207073388\n",
            "3.0073174177833963\n"
          ],
          "output_type":"stream"
        }
      ],
      "metadata":{
        
      }
    },
    {
      "cell_type":"markdown",
      "source":[
        "# Horners"
      ],
      "attachments":{
        
      },
      "metadata":{
        
      }
    },
    {
      "cell_type":"code",
      "source":[
        "def horners(poly, x):\n",
        "    result = poly[0]\n",
        "    for i in range(len(poly)):\n",
        "        result = result*x + poly[i]\n",
        "    return  result"
      ],
      "execution_count":2,
      "outputs":[
        
      ],
      "metadata":{
        
      }
    },
    {
      "cell_type":"code",
      "source":[
        "x = 1.00001\n",
        "poly = np.ones(51)\n",
        "print(horners(poly, x))"
      ],
      "execution_count":3,
      "outputs":[
        {
          "name":"stdout",
          "text":[
            "52.013262210270824\n"
          ],
          "output_type":"stream"
        }
      ],
      "metadata":{
        
      }
    },
    {
      "cell_type":"markdown",
      "source":[
        "# Bisection"
      ],
      "attachments":{
        
      },
      "metadata":{
        
      }
    },
    {
      "cell_type":"code",
      "source":[
        "def bisection(f, a, b, tol):\n",
        "    midpoint = (a+b)\/2\n",
        "    f_midpoint = f(midpoint)\n",
        "    error = abs(f_midpoint)\n",
        "\n",
        "    if error < tol:\n",
        "        return midpoint\n",
        "    if f_midpoint > 0:\n",
        "        return bisection(f, a, midpoint, tol)\n",
        "    elif f_midpoint < 0:\n",
        "        return bisection(f, midpoint, b, tol)\n",
        "    "
      ],
      "execution_count":4,
      "outputs":[
        
      ],
      "metadata":{
        
      }
    },
    {
      "cell_type":"code",
      "source":[
        "f = lambda x: x**3-9\n",
        "tol = 1e-6\n",
        "print(bisection(f, 2, 3, tol))"
      ],
      "execution_count":5,
      "outputs":[
        {
          "name":"stdout",
          "text":[
            "2.0800838470458984\n"
          ],
          "output_type":"stream"
        }
      ],
      "metadata":{
        
      }
    }
  ],
  "metadata":{
    
  },
  "nbformat":4,
  "nbformat_minor":0
}