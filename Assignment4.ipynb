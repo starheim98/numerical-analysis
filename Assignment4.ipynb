{
  "cells":[
    {
      "cell_type":"code",
      "source":[
        "import numpy as np"
      ],
      "execution_count":128,
      "outputs":[
        
      ],
      "metadata":{
        
      }
    },
    {
      "cell_type":"markdown",
      "source":[
        "# Chapter 6.1"
      ],
      "attachments":{
        
      },
      "metadata":{
        
      }
    },
    {
      "cell_type":"markdown",
      "source":[
        "**CP 1a)**"
      ],
      "attachments":{
        
      },
      "metadata":{
        
      }
    },
    {
      "cell_type":"code",
      "source":[
        "def eulers(y_diff, y0, h, interval, y_exact):\n",
        "    n = int((np.abs(interval[1] - interval[0])\/h))\n",
        "    w = y0\n",
        "    t = interval[0]\n",
        "    e = np.round(np.abs(w - y_exact(t)), 5)\n",
        "    print(f\"{t}\\t {w}\\t\\t\\t\\t {e}\")\n",
        "    \n",
        "    for i in range(n):\n",
        "        w = np.round(w + h*y_diff(t, w), 10)\n",
        "        t = round((t + h), 5)\n",
        "        e = np.round(np.abs(w - y_exact(t)), 4)\n",
        "        print(f\"{t}\\t {w}\\t\\t\\t\\t {e}\")\n",
        "\n"
      ],
      "execution_count":129,
      "outputs":[
        
      ],
      "metadata":{
        
      }
    },
    {
      "cell_type":"code",
      "source":[
        "# import numpy as np\n",
        "# def eulers_metode(f, y_init, h, n):\n",
        "#    y = [y_init]\n",
        "#    for i in range(n):\n",
        "#       s = h*f(y[i])\n",
        "#       y.append(y[i-1]+s)\n",
        "#    return y\n",
        "\n",
        "\n",
        "import numpy as np\n",
        "def eulers_metode(f, y_init, h, n):\n",
        "   y = [y_init]\n",
        "   for i in range(n):\n",
        "      s = f(y[i])\n",
        "      y.append(y[i]+h*s)\n",
        "   return y"
      ],
      "execution_count":130,
      "outputs":[
        
      ],
      "metadata":{
        
      }
    },
    {
      "cell_type":"code",
      "source":[
        "y_diff = lambda y: y\n",
        "y0 = 1\n",
        "h = 0.1\n",
        "n = 10\n",
        "\n",
        "eulers_metode(y_diff, y0, h, n)"
      ],
      "execution_count":131,
      "outputs":[
        {
          "data":{
            "text\/plain":[
              "[1,\n",
              " 1.1,\n",
              " 1.2100000000000002,\n",
              " 1.3310000000000002,\n",
              " 1.4641000000000002,\n",
              " 1.61051,\n",
              " 1.7715610000000002,\n",
              " 1.9487171,\n",
              " 2.1435888100000002,\n",
              " 2.357947691,\n",
              " 2.5937424601]"
            ]
          },
          "metadata":{
            
          },
          "output_type":"display_data"
        }
      ],
      "metadata":{
        
      }
    },
    {
      "cell_type":"code",
      "source":[
        "y_diff = lambda t,y: t\n",
        "y_exact = lambda t : (t**2)\/2 + 1\n",
        "y0 = 1\n",
        "h = 0.1\n",
        "interval = np.array([0, 1])\n",
        "\n",
        "eulers(y_diff, y0, h, interval, y_exact)"
      ],
      "execution_count":132,
      "outputs":[
        {
          "name":"stdout",
          "text":[
            "0\t 1\t\t\t\t 0.0\n",
            "0.1\t 1.0\t\t\t\t 0.005\n",
            "0.2\t 1.01\t\t\t\t 0.01\n",
            "0.3\t 1.03\t\t\t\t 0.015\n",
            "0.4\t 1.06\t\t\t\t 0.02\n",
            "0.5\t 1.1\t\t\t\t 0.025\n",
            "0.6\t 1.15\t\t\t\t 0.03\n",
            "0.7\t 1.21\t\t\t\t 0.035\n",
            "0.8\t 1.28\t\t\t\t 0.04\n",
            "0.9\t 1.36\t\t\t\t 0.045\n",
            "1.0\t 1.45\t\t\t\t 0.05\n"
          ],
          "output_type":"stream"
        }
      ],
      "metadata":{
        
      }
    },
    {
      "cell_type":"code",
      "source":[
        "y_diff = lambda t, y: t**4\/y**3\n",
        "y0 = 3\n",
        "h = 0.25\n",
        "interval = np.array([0, 1])\n",
        "\n",
        "print(\"exam\")\n",
        "eulers(y_diff, y0, h, interval, y_exact)"
      ],
      "execution_count":133,
      "outputs":[
        {
          "name":"stdout",
          "text":[
            "exam\n",
            "0\t 3\t\t\t\t 2.0\n",
            "0.25\t 3.0\t\t\t\t 1.9688\n",
            "0.5\t 3.000036169\t\t\t\t 1.875\n",
            "0.75\t 3.0006148518\t\t\t\t 1.7194\n",
            "1.0\t 3.0035427387\t\t\t\t 1.5035\n"
          ],
          "output_type":"stream"
        }
      ],
      "metadata":{
        
      }
    },
    {
      "cell_type":"markdown",
      "source":[
        "**CP 1b)**"
      ],
      "attachments":{
        
      },
      "metadata":{
        
      }
    },
    {
      "cell_type":"code",
      "source":[
        "y_diff = lambda t,y: t**2*y\n",
        "y_exact = lambda t : (np.exp((t**3)\/3))\n",
        "y0 = 1\n",
        "h = 0.1\n",
        "interval = np.array([0, 1])\n",
        "\n",
        "eulers(y_diff, y0, h, interval, y_exact)"
      ],
      "execution_count":134,
      "outputs":[
        {
          "name":"stdout",
          "text":[
            "0\t 1\t\t\t\t 0.0\n",
            "0.1\t 1.0\t\t\t\t 0.0003\n",
            "0.2\t 1.001\t\t\t\t 0.0017\n",
            "0.3\t 1.005004\t\t\t\t 0.004\n",
            "0.4\t 1.014049036\t\t\t\t 0.0075\n",
            "0.5\t 1.0302738206\t\t\t\t 0.0123\n",
            "0.6\t 1.0560306661\t\t\t\t 0.0186\n",
            "0.7\t 1.0940477701\t\t\t\t 0.0271\n",
            "0.8\t 1.1476561108\t\t\t\t 0.0384\n",
            "0.9\t 1.2211061019\t\t\t\t 0.054\n",
            "1.0\t 1.3200156962\t\t\t\t 0.0756\n"
          ],
          "output_type":"stream"
        }
      ],
      "metadata":{
        
      }
    },
    {
      "cell_type":"markdown",
      "source":[
        "# Chapter 6.2"
      ],
      "attachments":{
        
      },
      "metadata":{
        
      }
    },
    {
      "cell_type":"markdown",
      "source":[
        "**CP 1a)**"
      ],
      "attachments":{
        
      },
      "metadata":{
        
      }
    },
    {
      "cell_type":"code",
      "source":[
        "def explicit_trapezoid_method(y_diff, y0, h, interval, y_exact):\n",
        "    n = int((np.abs(interval[1] - interval[0])\/h))\n",
        "    w = y0\n",
        "    v = 0\n",
        "    t = interval[0]\n",
        "    e = np.round(np.abs(w - y_exact(t)), 5)\n",
        "    print(f\"{t}\\t {w}\\t\\t\\t\\t {e}\")\n",
        "\n",
        "    \n",
        "    for i in range(n):\n",
        "        v = w + h*y_diff(t, w)\n",
        "        w = np.round(w + (h\/2)*(y_diff(t, w) + y_diff(t+h, v)), 5)\n",
        "        t = round((t + h), 2)\n",
        "        e = np.round(np.abs(w - y_exact(t)), 4)\n",
        "        print(f\"{t}\\t {w}\\t\\t\\t\\t {e}\")\n"
      ],
      "execution_count":135,
      "outputs":[
        
      ],
      "metadata":{
        
      }
    },
    {
      "cell_type":"code",
      "source":[
        "y_diff = lambda t,y: t\n",
        "y_exact = lambda t : (t**2)\/2 + 1\n",
        "y0 = 1\n",
        "h = 0.1\n",
        "interval = np.array([0, 1])\n",
        "\n",
        "explicit_trapezoid_method(y_diff, y0, h, interval, y_exact)"
      ],
      "execution_count":136,
      "outputs":[
        {
          "name":"stdout",
          "text":[
            "0\t 1\t\t\t\t 0.0\n",
            "0.1\t 1.005\t\t\t\t 0.0\n",
            "0.2\t 1.02\t\t\t\t 0.0\n",
            "0.3\t 1.045\t\t\t\t 0.0\n",
            "0.4\t 1.08\t\t\t\t 0.0\n",
            "0.5\t 1.125\t\t\t\t 0.0\n",
            "0.6\t 1.18\t\t\t\t 0.0\n",
            "0.7\t 1.245\t\t\t\t 0.0\n",
            "0.8\t 1.32\t\t\t\t 0.0\n",
            "0.9\t 1.405\t\t\t\t 0.0\n",
            "1.0\t 1.5\t\t\t\t 0.0\n"
          ],
          "output_type":"stream"
        }
      ],
      "metadata":{
        
      }
    },
    {
      "cell_type":"code",
      "source":[
        "y_diff = lambda t,y: 5*(t**4)*y\n",
        "y_exact = lambda t : (t**2)\/2 + 1\n",
        "y0 = 1\n",
        "h = 0.25\n",
        "interval = np.array([0, 1])\n",
        "\n",
        "explicit_trapezoid_method(y_diff, y0, h, interval, y_exact)"
      ],
      "execution_count":137,
      "outputs":[
        {
          "name":"stdout",
          "text":[
            "0\t 1\t\t\t\t 0.0\n",
            "0.25\t 1.00244\t\t\t\t 0.0288\n",
            "0.5\t 1.04424\t\t\t\t 0.0808\n",
            "0.75\t 1.30767\t\t\t\t 0.0264\n",
            "1.0\t 2.70681\t\t\t\t 1.2068\n"
          ],
          "output_type":"stream"
        }
      ],
      "metadata":{
        
      }
    },
    {
      "cell_type":"markdown",
      "source":[
        "# Chapter 6.3"
      ],
      "attachments":{
        
      },
      "metadata":{
        
      }
    },
    {
      "cell_type":"markdown",
      "source":[
        "**CP 1a)**"
      ],
      "attachments":{
        
      },
      "metadata":{
        
      }
    },
    {
      "cell_type":"code",
      "source":[
        "def euler2(y1_diff, y2_diff, y1_0, y2_0, h, interval):\n",
        "    n = int((np.abs(interval[1] - interval[0])\/h))\n",
        "    w1 = y1_0\n",
        "    w2 = y2_0\n",
        "    t = interval[0]\n",
        "    \n",
        "    for i in range(n):\n",
        "        w1_new = w1 + h*y1_diff(w1, w2)\n",
        "        w2 = w2 + h*y2_diff(w1, w2)\n",
        "        w1 = w1_new\n",
        "        t = round((t + h), 3)\n",
        "    error1 = np.round(np.abs(np.exp(t)*np.cos(t) - w1), 4)\n",
        "    error2 = np.round(np.abs(-np.exp(t)*np.sin(t) - w2), 4)\n",
        "    print(w1)\n",
        "    print(w2)\n",
        "    print(\"Global truncation error1: \", error1)\n",
        "    print(\"Global truncation error2: \", error2)"
      ],
      "execution_count":138,
      "outputs":[
        
      ],
      "metadata":{
        
      }
    },
    {
      "cell_type":"code",
      "source":[
        "y1_diff = lambda y1, y2: y1+y2\n",
        "y2_diff = lambda y1, y2: -y1+y2\n",
        "y1_0 = 1\n",
        "y2_0 = 0\n",
        "h1 = 0.1\n",
        "h2 = 0.01\n",
        "interval = np.array([0, 1])\n",
        "\n",
        "euler2(y1_diff, y2_diff, y1_0, y2_0, h1, interval)\n",
        "print()\n",
        "euler2(y1_diff, y2_diff, y1_0, y2_0, h2, interval)"
      ],
      "execution_count":139,
      "outputs":[
        {
          "name":"stdout",
          "text":[
            "1.6660233600000003\n",
            "-2.128144163200001\n",
            "Global truncation error1:  0.1973\n",
            "Global truncation error2:  0.1592\n",
            "\n",
            "1.4912442482467867\n",
            "-2.272504391010756\n",
            "Global truncation error1:  0.0226\n",
            "Global truncation error2:  0.0149\n"
          ],
          "output_type":"stream"
        }
      ],
      "metadata":{
        
      }
    },
    {
      "cell_type":"code",
      "source":[
        "def trap2(y1_diff, y2_diff, y1_0, y2_0, h, interval):\n",
        "    n = int((np.abs(interval[1] - interval[0])\/h))\n",
        "    w1 = y1_0\n",
        "    w2 = y2_0\n",
        "    t = interval[0]\n",
        "    \n",
        "    for i in range(n):\n",
        "        v1 = w1 + h*y1_diff(w1, w2)\n",
        "        v2 = w2 + h*y2_diff(w1, w2)\n",
        "        w1_new = w1 + (h\/2)*(y1_diff(w1, w2) + y1_diff(v1, v2))\n",
        "        w2 = w2 + (h\/2)*(y2_diff(w1, w2) + y2_diff(v1, v2))\n",
        "        w1 = w1_new\n",
        "        t = round((t + h), 3)\n",
        "        print(\"w1: \", w1)\n",
        "        print(\"w2: \", w2)"
      ],
      "execution_count":140,
      "outputs":[
        
      ],
      "metadata":{
        
      }
    },
    {
      "cell_type":"code",
      "source":[
        "y1_diff = lambda y1, y2: y1+y2\n",
        "y2_diff = lambda y1, y2: -y1+y2\n",
        "y1_0 = 1\n",
        "y2_0 = 0\n",
        "h = 0.25\n",
        "interval = np.array([0, 1])\n",
        "trap2(y1_diff, y2_diff, y1_0, y2_0, h, interval)"
      ],
      "execution_count":141,
      "outputs":[
        {
          "name":"stdout",
          "text":[
            "w1:  1.25\n",
            "w2:  -0.3125\n",
            "w1:  1.46484375\n",
            "w2:  -0.78125\n",
            "w1:  1.5869140625\n",
            "w2:  -1.434326171875\n",
            "w1:  1.5354156494140625\n",
            "w2:  -2.288818359375\n"
          ],
          "output_type":"stream"
        }
      ],
      "metadata":{
        
      }
    },
    {
      "cell_type":"markdown",
      "source":[
        "# Chapter 6.4"
      ],
      "attachments":{
        
      },
      "metadata":{
        
      }
    },
    {
      "cell_type":"markdown",
      "source":[
        "**CP 1b)**"
      ],
      "attachments":{
        
      },
      "metadata":{
        
      }
    },
    {
      "cell_type":"code",
      "source":[
        "def mid_point(y_diff, y0, h, interval, y_exact):\n",
        "    n = int((np.abs(interval[1] - interval[0])\/h))\n",
        "    w = y0\n",
        "    t = interval[0]\n",
        "    e = np.round(np.abs(w - y_exact(t)), 4)\n",
        "    print(f\"{t}\\t {w}\\t\\t {e}\")\n",
        "\n",
        "    for i in range(n):\n",
        "        s1 = y_diff(t, w)\n",
        "        s2 = y_diff(t+h\/2, w+(h\/2)*s1)\n",
        "        w = np.round(w + h*s2, 6)\n",
        "        t = round((t + h), 3)\n",
        "        e = np.round(np.abs(w - y_exact(t)), 6)\n",
        "\n",
        "        print(f\"{t}\\t\\t {w}\\t\\t{e}\")"
      ],
      "execution_count":142,
      "outputs":[
        
      ],
      "metadata":{
        
      }
    },
    {
      "cell_type":"code",
      "source":[
        "y_diff = lambda t,y: t**2*y\n",
        "y_exact = lambda t : (np.exp(t**3.\/3))\n",
        "y0 = 1\n",
        "h = 0.25\n",
        "interval = np.array([0, 1])\n",
        "mid_point(y_diff, y0, h, interval, y_exact)"
      ],
      "execution_count":143,
      "outputs":[
        {
          "name":"stdout",
          "text":[
            "0\t 1\t\t 0.0\n",
            "0.25\t\t 1.003906\t\t0.001316\n",
            "0.5\t\t 1.039475\t\t0.003072\n",
            "0.75\t\t 1.144158\t\t0.006835\n",
            "1.0\t\t 1.378555\t\t0.017057\n"
          ],
          "output_type":"stream"
        }
      ],
      "metadata":{
        
      }
    },
    {
      "cell_type":"code",
      "source":[
        "y_diff = lambda t,y: t\n",
        "y_exact = lambda t : (np.exp(t**3.\/3))\n",
        "y0 = 1\n",
        "h = 0.25\n",
        "interval = np.array([0, 1])\n",
        "mid_point(y_diff, y0, h, interval, y_exact)"
      ],
      "execution_count":144,
      "outputs":[
        {
          "name":"stdout",
          "text":[
            "0\t 1\t\t 0.0\n",
            "0.25\t\t 1.03125\t\t0.026028\n",
            "0.5\t\t 1.125\t\t0.082453\n",
            "0.75\t\t 1.28125\t\t0.130257\n",
            "1.0\t\t 1.5\t\t0.104388\n"
          ],
          "output_type":"stream"
        }
      ],
      "metadata":{
        
      }
    },
    {
      "cell_type":"markdown",
      "source":[
        "**CP 3b)**"
      ],
      "attachments":{
        
      },
      "metadata":{
        
      }
    },
    {
      "cell_type":"code",
      "source":[
        "def runge_kutta(y_diff, y0, h, interval, y_exact):\n",
        "    n = int((np.abs(interval[1] - interval[0])\/h))\n",
        "    w = y0\n",
        "    t = interval[0]\n",
        "    e = np.round(np.abs(w - y_exact(t)), 4)\n",
        "    print(f\"{t}\\t {w}\\t\\t {e}\")\n",
        "\n",
        "    for i in range(n):\n",
        "        s1 = y_diff(t, w)\n",
        "        s2 = y_diff(t+h\/2, w+ (h*s1)\/2)\n",
        "        s3 = y_diff(t+h\/2, w+ (h*s2)\/2)\n",
        "        s4 = y_diff(t+h, w+ (h*s3))\n",
        "        w = np.round(w + (h\/6)*(s1 + 2*s2+2*s3 + s4), 6)\n",
        "        t = round((t + h), 3)\n",
        "        e = np.round(np.abs(w - y_exact(t)), 11)\n",
        "\n",
        "        print(f\"{t}\\t\\t {w}\\t\\t{e}\")"
      ],
      "execution_count":145,
      "outputs":[
        
      ],
      "metadata":{
        
      }
    },
    {
      "cell_type":"code",
      "source":[
        "y_diff = lambda t,y: t**2*y\n",
        "y_exact = lambda t : (np.exp((t**3)\/3))\n",
        "y0 = 1\n",
        "h = 0.1\n",
        "interval = np.array([0, 1])\n",
        "runge_kutta(y_diff, y0, h, interval, y_exact)"
      ],
      "execution_count":146,
      "outputs":[
        {
          "name":"stdout",
          "text":[
            "0\t 1\t\t 0.0\n",
            "0.1\t\t 1.000333\t\t3.889e-07\n",
            "0.2\t\t 1.00267\t\t2.2538e-07\n",
            "0.3\t\t 1.00904\t\t6.2177e-07\n",
            "0.4\t\t 1.021562\t\t5.1573e-07\n",
            "0.5\t\t 1.042546\t\t9.0519e-07\n",
            "0.6\t\t 1.074654\t\t1.34406e-06\n",
            "0.7\t\t 1.121124\t\t1.7712e-06\n",
            "0.8\t\t 1.186093\t\t2.31801e-06\n",
            "0.9\t\t 1.275066\t\t2.62412e-06\n",
            "1.0\t\t 1.395609\t\t3.42509e-06\n"
          ],
          "output_type":"stream"
        }
      ],
      "metadata":{
        
      }
    }
  ],
  "metadata":{
    
  },
  "nbformat":4,
  "nbformat_minor":0
}