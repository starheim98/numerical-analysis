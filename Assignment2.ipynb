{
  "cells":[
    {
      "cell_type":"code",
      "source":[
        "import numpy as np"
      ],
      "execution_count":27,
      "outputs":[
        
      ],
      "metadata":{
        
      }
    },
    {
      "cell_type":"markdown",
      "source":[
        "# Newtons method"
      ],
      "attachments":{
        
      },
      "metadata":{
        
      }
    },
    {
      "cell_type":"code",
      "source":[
        "def newtons(f, f_diff, x0, tol):\n",
        "    x_n = x0\n",
        "    print(f(x_n))\n",
        "    print(f_diff(x_n))\n",
        "    while np.abs(f(x_n)) > tol:\n",
        "        x_n = x_n - (f(x_n)\/f_diff(x_n))\n",
        "        print(x_n)\n",
        "    return x_n"
      ],
      "execution_count":28,
      "outputs":[
        
      ],
      "metadata":{
        
      }
    },
    {
      "cell_type":"code",
      "source":[
        "f1 = lambda x: x**3 -2*x - 2\n",
        "f1_diff = lambda x: 3*x**2 - 2\n",
        "print(newtons(f1, f1_diff, 2, 1e-8))"
      ],
      "execution_count":29,
      "outputs":[
        {
          "name":"stdout",
          "text":[
            "2\n",
            "10\n",
            "1.8\n",
            "1.7699481865284974\n",
            "1.769292662905941\n",
            "1.7692923542386998\n",
            "1.7692923542386998\n"
          ],
          "output_type":"stream"
        }
      ],
      "metadata":{
        
      }
    },
    {
      "cell_type":"markdown",
      "source":[
        "# Computer problem 2.1)"
      ],
      "attachments":{
        
      },
      "metadata":{
        
      }
    },
    {
      "cell_type":"markdown",
      "source":[
        " **1)**"
      ],
      "attachments":{
        
      },
      "metadata":{
        
      }
    },
    {
      "cell_type":"code",
      "source":[
        "def naive_gauss(A):\n",
        "    (n, m) = np.shape(A)  # matrix shape tuple (n rows, m columns)\n",
        "    for j in range(n-1):  # for each row n\n",
        "        for i in range(j + 1, n):  # for each pivot?\n",
        "            multiplier = A[i][j]\/A[j][j]\n",
        "            for k in range(j, m):  # for each element from the pivot to end of row\n",
        "                A[i][k] = A[i][k] - (A[j][k] * multiplier)\n",
        "    return A\n",
        "\n",
        "def back_substitution(AG):\n",
        "    (n, m) = np.shape(AG)\n",
        "    A = AG[:, :-1]\n",
        "    b = AG[:, -1]\n",
        "    x = np.zeros(n)\n",
        "\n",
        "    for i in range(n-1, -1, -1):\n",
        "        for j in range(i+1, n):\n",
        "            b[i] = b[i] - A[i][j]*x[j]\n",
        "        x[i] = b[i]\/A[i][i]\n",
        "    return x\n",
        "    \n",
        "def hilbert(n):\n",
        "    A = np.zeros((n, n))\n",
        "    for i in range(n):\n",
        "        for j in range(n):\n",
        "            A[i][j] = 1.0\/((i+1) + j)\n",
        "    return A"
      ],
      "execution_count":30,
      "outputs":[
        
      ],
      "metadata":{
        
      }
    },
    {
      "cell_type":"code",
      "source":[
        "# 1\n",
        "A1 = np.array([\n",
        "    [2, -2, -1, -2],\n",
        "    [4, 1, -2, 1],\n",
        "    [-2, 1, -1, -3]])\n",
        "A2 = np.array([\n",
        "    [1, 2, -1, 2],\n",
        "    [0, 3, 1, 4],\n",
        "    [2, -1, 1, 2]])\n",
        "A3 = np.array([\n",
        "    [2.0, 1, -4, -7],\n",
        "    [1, -1, 1, -2],\n",
        "    [-1, 3, -2, 6]])\n",
        "\n",
        "print(back_substitution(naive_gauss(A1)))\n",
        "print(back_substitution(naive_gauss(A2)))\n",
        "print(back_substitution(naive_gauss(A3)))"
      ],
      "execution_count":31,
      "outputs":[
        {
          "name":"stdout",
          "text":[
            "[1. 1. 2.]\n",
            "[1. 1. 1.]\n",
            "[-1.  3.  2.]\n"
          ],
          "output_type":"stream"
        }
      ],
      "metadata":{
        
      }
    },
    {
      "cell_type":"markdown",
      "source":[
        "**2)**"
      ],
      "attachments":{
        
      },
      "metadata":{
        
      }
    },
    {
      "cell_type":"code",
      "source":[
        "#2\n",
        "H1 = hilbert(2)\n",
        "H2 = hilbert(5)\n",
        "H3 = hilbert(10)\n",
        "\n",
        "H1_AG = np.hstack((H1, np.ones((2, 1))))\n",
        "H2_AG = np.hstack((H2, np.ones((5, 1))))\n",
        "H3_AG = np.hstack((H3, np.ones((10, 1))))\n",
        "\n",
        "print(back_substitution(naive_gauss(H1_AG)))\n",
        "print(back_substitution(naive_gauss(H2_AG)))\n",
        "print(back_substitution(naive_gauss(H3_AG)))"
      ],
      "execution_count":32,
      "outputs":[
        {
          "name":"stdout",
          "text":[
            "[-2.  6.]\n",
            "[    5.  -120.   630. -1120.   630.]\n",
            "[-9.99736482e+00  9.89771861e+02 -2.37551338e+04  2.40195714e+05\n",
            " -1.26104860e+06  3.78319850e+06 -6.72576549e+06  7.00035724e+06\n",
            " -3.93773542e+06  9.23673408e+05]\n"
          ],
          "output_type":"stream"
        }
      ],
      "metadata":{
        
      }
    },
    {
      "cell_type":"markdown",
      "source":[
        "# Computer problem 2.2)"
      ],
      "attachments":{
        
      },
      "metadata":{
        
      }
    },
    {
      "cell_type":"markdown",
      "source":[
        "**1) LU factorization**"
      ],
      "attachments":{
        
      },
      "metadata":{
        
      }
    },
    {
      "cell_type":"code",
      "source":[
        "def LU_factor(A):\n",
        "    (n, m) = np.shape(A)  # matrix shape tuple (n rows, m columns)\n",
        "    L = np.identity(n)\n",
        "    for j in range(n-1):  # for each row n\n",
        "        for i in range(j + 1, n):  # for each pivot?\n",
        "            if A[j][j] == 0:\n",
        "                return \"Error\"\n",
        "            multiplier = A[i][j]\/A[j][j]\n",
        "            for k in range(j, m):  # for each element from the pivot to end of row\n",
        "                A[i][k] = A[i][k] - (A[j][k] * multiplier)\n",
        "            L[i][j] = multiplier\n",
        "    return (L, A)\n"
      ],
      "execution_count":33,
      "outputs":[
        
      ],
      "metadata":{
        
      }
    },
    {
      "cell_type":"code",
      "source":[
        "A1 = np.array([\n",
        "    [3, 1, 2],\n",
        "    [6, 3, 4],\n",
        "    [3, 1, 5]])\n",
        "\n",
        "A2 = np.array([\n",
        "    [4, 2, 0],\n",
        "    [4, 4, 2],\n",
        "    [2, 2, 3]])\n",
        "\n",
        "A3 = np.array([\n",
        "    [1, -1, 1, 2],\n",
        "    [0, 2, 1, 0],\n",
        "    [1, 3, 4, 4],\n",
        "    [0, 2, 1, -1]])\n",
        "\n",
        "(L, U) = LU_factor(A2)\n",
        "print(f\"L:\\n {L}\")\n",
        "print(f\"U:\\n {U}\")"
      ],
      "execution_count":34,
      "outputs":[
        {
          "name":"stdout",
          "text":[
            "L:\n",
            " [[1.  0.  0. ]\n",
            " [1.  1.  0. ]\n",
            " [0.5 0.5 1. ]]\n",
            "U:\n",
            " [[4 2 0]\n",
            " [0 2 2]\n",
            " [0 0 2]]\n"
          ],
          "output_type":"stream"
        }
      ],
      "metadata":{
        
      }
    },
    {
      "cell_type":"markdown",
      "source":[
        "**2) Two-step back substitution**"
      ],
      "attachments":{
        
      },
      "metadata":{
        
      }
    },
    {
      "cell_type":"code",
      "source":[
        "def two_step_back_sub(L, U, b):\n",
        "    (n, n) = L.shape\n",
        "    c = np.zeros(n)\n",
        "    x = np.zeros(n)\n",
        "\n",
        "    # Lc = b --> Solve for c\n",
        "    for i in range(n):\n",
        "        for j in range(i):\n",
        "            b[i] = b[i]-L[i][j]*c[j]\n",
        "        c[i] = b[i]\/L[i][i]\n",
        "    \n",
        "    # Ux = c --> Solve for x\n",
        "    for i in range(n-1, -1, -1):\n",
        "        for j in range(i+1, n):\n",
        "            c[i] = c[i] - U[i][j]*x[j]\n",
        "        x[i] = c[i]\/U[i][i]\n",
        "\n",
        "    return x"
      ],
      "execution_count":35,
      "outputs":[
        
      ],
      "metadata":{
        
      }
    },
    {
      "cell_type":"code",
      "source":[
        "# 4a\n",
        "A1 = np.array([\n",
        "    [3, 1, 2], \n",
        "    [6, 3, 4],\n",
        "    [3, 1, 5]])\n",
        "b1 = np.array([[0, 1, 3]]).T\n",
        "\n",
        "# 4b\n",
        "A2 = np.array([\n",
        "    [4, 2, 0], \n",
        "    [4, 4, 2],\n",
        "    [2, 2, 3]])\n",
        "b2 = np.array([[2, 4, 6]]).T\n",
        "\n",
        "\n",
        "(L, U) = LU_factor(A1)\n",
        "x = two_step_back_sub(L, U, b1)\n",
        "print(two_step_back_sub(L, U, b1))\n",
        "\n",
        "(L, U) = LU_factor(A2)\n",
        "print(two_step_back_sub(L, U, b2))"
      ],
      "execution_count":36,
      "outputs":[
        {
          "name":"stdout",
          "text":[
            "[-1.  1.  1.]\n",
            "[ 1. -1.  2.]\n"
          ],
          "output_type":"stream"
        }
      ],
      "metadata":{
        
      }
    },
    {
      "cell_type":"markdown",
      "source":[
        "# Computer problem 2.3)"
      ],
      "attachments":{
        
      },
      "metadata":{
        
      }
    },
    {
      "cell_type":"code",
      "source":[
        "A1 = np.array([\n",
        "    [10**-20, 1, 1],\n",
        "    [1, 2, 4]])\n",
        "\n",
        "A2 = np.array([\n",
        "    [1, 2, 4],\n",
        "    [10**-20, 1, 1]])\n",
        "\n",
        "print(back_substitution(naive_gauss(A1)))\n",
        "print(back_substitution(naive_gauss(A2)))"
      ],
      "execution_count":37,
      "outputs":[
        {
          "name":"stdout",
          "text":[
            "[0. 1.]\n",
            "[2. 1.]\n"
          ],
          "output_type":"stream"
        }
      ],
      "metadata":{
        
      }
    },
    {
      "cell_type":"code",
      "source":[
        "A = np.array([[-1, 0, 1], [2, 1, 1], [-1, 2, 0]])\n",
        "print(LU_factor(A))"
      ],
      "execution_count":38,
      "outputs":[
        {
          "name":"stdout",
          "text":[
            "(array([[ 1.,  0.,  0.],\n",
            "       [-2.,  1.,  0.],\n",
            "       [ 1.,  2.,  1.]]), array([[-1,  0,  1],\n",
            "       [ 0,  1,  3],\n",
            "       [ 0,  0, -7]]))\n"
          ],
          "output_type":"stream"
        }
      ],
      "metadata":{
        
      }
    },
    {
      "cell_type":"markdown",
      "source":[
        "# PA LU"
      ],
      "attachments":{
        
      },
      "metadata":{
        
      }
    },
    {
      "cell_type":"code",
      "source":[
        "import pprint\n",
        "import scipy\n",
        "import scipy.linalg   # SciPy Linear Algebra Library\n",
        "\n",
        "A = np.array([ [7, 3, -1, 2], [3, 8, 1, -4], [-1, 1, 4, -1], [2, -4, -1, 6] ])\n",
        "P, L, U = scipy.linalg.lu(A)\n",
        "\n",
        "print(\"P: \")\n",
        "pprint.pprint(P)\n",
        "\n",
        "print(\"A: \")\n",
        "pprint.pprint(A)\n",
        "\n",
        "print(\"L: \")\n",
        "pprint.pprint(L)\n",
        "\n",
        "print(\"U: \")\n",
        "pprint.pprint(U)"
      ],
      "execution_count":39,
      "outputs":[
        {
          "name":"stdout",
          "text":[
            "P: \n",
            "array([[1., 0., 0., 0.],\n",
            "       [0., 1., 0., 0.],\n",
            "       [0., 0., 1., 0.],\n",
            "       [0., 0., 0., 1.]])\n",
            "A: \n",
            "array([[ 7,  3, -1,  2],\n",
            "       [ 3,  8,  1, -4],\n",
            "       [-1,  1,  4, -1],\n",
            "       [ 2, -4, -1,  6]])\n",
            "L: \n",
            "array([[ 1.        ,  0.        ,  0.        ,  0.        ],\n",
            "       [ 0.42857143,  1.        ,  0.        ,  0.        ],\n",
            "       [-0.14285714,  0.21276596,  1.        ,  0.        ],\n",
            "       [ 0.28571429, -0.72340426,  0.08982036,  1.        ]])\n",
            "U: \n",
            "array([[ 7.        ,  3.        , -1.        ,  2.        ],\n",
            "       [ 0.        ,  6.71428571,  1.42857143, -4.85714286],\n",
            "       [ 0.        ,  0.        ,  3.55319149,  0.31914894],\n",
            "       [ 0.        ,  0.        ,  0.        ,  1.88622754]])\n"
          ],
          "output_type":"stream"
        }
      ],
      "metadata":{
        
      }
    }
  ],
  "metadata":{
    
  },
  "nbformat":4,
  "nbformat_minor":0
}